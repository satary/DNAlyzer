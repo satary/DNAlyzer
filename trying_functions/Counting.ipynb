{
 "cells": [
  {
   "cell_type": "code",
   "execution_count": 55,
   "metadata": {},
   "outputs": [],
   "source": [
    "import MDAnalysis"
   ]
  },
  {
   "cell_type": "code",
   "execution_count": 56,
   "metadata": {},
   "outputs": [],
   "source": [
    "PDB_file = MDAnalysis.Universe('4glg.pdb')\n",
    "DNA_selection = PDB_file.select_atoms('nucleic')\n",
    "number_of_chains = DNA_selection.segments.segids.size\n",
    "\n",
    "if number_of_chains != 2:\n",
    "    print (\"Not 2-chained DNA\")\n",
    "\n"
   ]
  },
  {
   "cell_type": "code",
   "execution_count": 57,
   "metadata": {},
   "outputs": [
    {
     "name": "stdout",
     "output_type": "stream",
     "text": [
      "['DC', 'DG', 'DC', 'DG', 'DA', 'DA', 'DT', 'DT', '5CM', 'DG', 'DC', 'DG']\n"
     ]
    }
   ],
   "source": [
    "for chain_id in DNA_selection.segments.segindices:\n",
    "    segment=DNA_selection.segments[chain_id]\n",
    "#print(DNA_selection.segments[1])\n",
    "names = []\n",
    "for residue in segment.residues:\n",
    "    names.append(residue.resname)\n",
    "print (names)\n"
   ]
  },
  {
   "cell_type": "code",
   "execution_count": null,
   "metadata": {},
   "outputs": [],
   "source": []
  }
 ],
 "metadata": {
  "anaconda-cloud": {},
  "kernelspec": {
   "display_name": "Python [conda env:DNAlyzer]",
   "language": "python",
   "name": "conda-env-DNAlyzer-py"
  },
  "language_info": {
   "codemirror_mode": {
    "name": "ipython",
    "version": 3
   },
   "file_extension": ".py",
   "mimetype": "text/x-python",
   "name": "python",
   "nbconvert_exporter": "python",
   "pygments_lexer": "ipython3",
   "version": "3.6.4"
  },
  "varInspector": {
   "cols": {
    "lenName": 16,
    "lenType": 16,
    "lenVar": 40
   },
   "kernels_config": {
    "python": {
     "delete_cmd_postfix": "",
     "delete_cmd_prefix": "del ",
     "library": "var_list.py",
     "varRefreshCmd": "print(var_dic_list())"
    },
    "r": {
     "delete_cmd_postfix": ") ",
     "delete_cmd_prefix": "rm(",
     "library": "var_list.r",
     "varRefreshCmd": "cat(var_dic_list()) "
    }
   },
   "types_to_exclude": [
    "module",
    "function",
    "builtin_function_or_method",
    "instance",
    "_Feature"
   ],
   "window_display": false
  }
 },
 "nbformat": 4,
 "nbformat_minor": 2
}
